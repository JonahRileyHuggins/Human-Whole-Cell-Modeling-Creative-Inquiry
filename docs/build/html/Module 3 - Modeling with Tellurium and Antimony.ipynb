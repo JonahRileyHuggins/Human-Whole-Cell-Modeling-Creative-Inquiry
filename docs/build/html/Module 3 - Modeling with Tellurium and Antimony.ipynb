{
 "cells": [
  {
   "cell_type": "markdown",
   "metadata": {},
   "source": [
    "## Module 3: Modeling Events using Antimony, Tellurium and the (S)ystems (B)iology (M)arkdown (L)anguage (SBML).\n",
    "\n",
    "Now that we have the skills to execute python commands, the basic syntax, and an ability to install packages, lets begin to learn some modeling basics. Antimony and Tellurium are useful tools created by the Suaro Lab at the University of Washington for mechanistic modeling. \n",
    "\n",
    "In this module, you will learn how to perform kinetic modeling of biological systems using Antimony and Tellurium. Antimony is a human-readable modeling language that allows you to describe biochemical reactions, while Tellurium is a Python-based environment for running and analyzing these models. By the end of this module, you will be able to:\n",
    "- Write kinetic models using Antimony.\n",
    "- Simulate and analyze models using Tellurium.\n",
    "- Interpret the results of simulations."
   ]
  },
  {
   "cell_type": "markdown",
   "metadata": {},
   "source": [
    "---\n",
    "\n",
    "## Section 1: Understanding Kinetic Modeling\n",
    "\n",
    "### 1.1 What is Kinetic Modeling?\n",
    "Kinetic modeling is a mathematical approach used to describe the dynamic behavior of biochemical systems. It involves defining the rates of chemical reactions and simulating how the concentrations of species change over time.\n",
    "\n",
    "### 1.2 Why Use Antimony and Tellurium?\n",
    "Antimony allows you to create models in a simple, human-readable format, while Tellurium provides a powerful simulation environment with built-in tools for analysis and visualization.\n",
    "\n",
    "---"
   ]
  },
  {
   "cell_type": "markdown",
   "metadata": {},
   "source": [
    "\n",
    "## Section 2: Introduction to Antimony\n",
    "\n",
    "### 2.1 Antimony Syntax\n",
    "Antimony uses a straightforward syntax to define species, reactions, and parameters. Here's a basic example of an irreversible reaction where species `S1` converts to `S2` with a rate constant `k1`:\n",
    "\n",
    "```antimony\n",
    "S1 -> S2; k1*S1\n",
    "k1 = 0.1\n",
    "S1 = 10\n",
    "S2 = 0\n",
    "```\n",
    "\n",
    "### 2.2 Creating a Simple Model:\n",
    "\n",
    "Please install the following package, then restart your jupyter notebook for the change to take effect."
   ]
  },
  {
   "cell_type": "code",
   "execution_count": 1,
   "metadata": {
    "execution": {
     "iopub.execute_input": "2024-09-14T16:51:24.394382Z",
     "iopub.status.busy": "2024-09-14T16:51:24.394382Z",
     "iopub.status.idle": "2024-09-14T16:51:24.397594Z",
     "shell.execute_reply": "2024-09-14T16:51:24.397594Z"
    }
   },
   "outputs": [],
   "source": [
    "# !pip install tellurium"
   ]
  },
  {
   "cell_type": "code",
   "execution_count": 2,
   "metadata": {
    "execution": {
     "iopub.execute_input": "2024-09-14T16:51:24.399610Z",
     "iopub.status.busy": "2024-09-14T16:51:24.398609Z",
     "iopub.status.idle": "2024-09-14T16:51:25.592545Z",
     "shell.execute_reply": "2024-09-14T16:51:25.592545Z"
    }
   },
   "outputs": [
    {
     "data": {
      "image/png": "[encoded data removed]",
      "text/plain": [
       "<Figure size 600x400 with 1 Axes>"
      ]
     },
     "metadata": {},
     "output_type": "display_data"
    }
   ],
   "source": [
    "import tellurium as te\n",
    "\n",
    "# Define the model using Antimony\n",
    "model = \"\"\"\n",
    "model simple_reaction\n",
    "  S1 -> S2; k1*S1\n",
    "  k1 = 0.1\n",
    "  S1 = 10\n",
    "  S2 = 0\n",
    "end\n",
    "\"\"\"\n",
    "\n",
    "# Load the model in Tellurium\n",
    "r = te.loada(model)\n",
    "\n",
    "# Simulate the model over 100 time units\n",
    "result = r.simulate(0, 100, 100)\n",
    "\n",
    "# Plot the results\n",
    "r.plot(result)"
   ]
  },
  {
   "cell_type": "markdown",
   "metadata": {},
   "source": [
    "### 2.3 Exercises: Building Your First Model\n",
    "- **Exercise 1:** Modify the reaction to include a reverse reaction where `S2` converts back to `S1` with rate constant `k2`.\n",
    "- **Exercise 2:** Add a second reaction where `S2` converts to a new species `S3` and simulate the system.\n",
    "\n",
    "---"
   ]
  },
  {
   "cell_type": "markdown",
   "metadata": {},
   "source": [
    "\n",
    "## Section 3: Advanced Modeling with Antimony\n",
    "\n",
    "### 3.1 Modeling Enzyme Kinetics\n",
    "Enzyme kinetics can be modeled using Michaelis-Menten kinetics. Here's an example where an enzyme `E` catalyzes the conversion of substrate `S` to product `P`:\n",
    "\n",
    "```antimony\n",
    "model enzyme_kinetics\n",
    "  S + E -> C; k1*S*E\n",
    "  C -> E + P; k2*C\n",
    "  C -> S + E; k3*C\n",
    "  S = 10\n",
    "  E = 1\n",
    "  P = 0\n",
    "  C = 0\n",
    "  k1 = 0.1\n",
    "  k2 = 0.05\n",
    "  k3 = 0.01\n",
    "end\n",
    "```\n",
    "\n",
    "### 3.2 Exploring Parameter Sensitivity\n",
    "Parameter sensitivity analysis helps you understand how changes in parameters affect the system's behavior."
   ]
  },
  {
   "cell_type": "code",
   "execution_count": 3,
   "metadata": {
    "execution": {
     "iopub.execute_input": "2024-09-14T16:51:25.620574Z",
     "iopub.status.busy": "2024-09-14T16:51:25.620574Z",
     "iopub.status.idle": "2024-09-14T16:51:25.926857Z",
     "shell.execute_reply": "2024-09-14T16:51:25.926857Z"
    }
   },
   "outputs": [
    {
     "ename": "TypeError",
     "evalue": "in method 'ExecutableModel___setitem__', argument 3 of type 'double'",
     "output_type": "error",
     "traceback": [
      "\u001b[1;31m---------------------------------------------------------------------------\u001b[0m",
      "\u001b[1;31mTypeError\u001b[0m                                 Traceback (most recent call last)",
      "Cell \u001b[1;32mIn[3], line 3\u001b[0m\n\u001b[0;32m      1\u001b[0m \u001b[38;5;66;03m# Perform a parameter scan for k1\u001b[39;00m\n\u001b[0;32m      2\u001b[0m r\u001b[38;5;241m.\u001b[39mresetToOrigin()\n\u001b[1;32m----> 3\u001b[0m \u001b[43mr\u001b[49m\u001b[38;5;241;43m.\u001b[39;49m\u001b[43mk1\u001b[49m \u001b[38;5;241m=\u001b[39m [\u001b[38;5;241m0.05\u001b[39m, \u001b[38;5;241m0.1\u001b[39m, \u001b[38;5;241m0.2\u001b[39m]\n\u001b[0;32m      4\u001b[0m scan_results \u001b[38;5;241m=\u001b[39m r\u001b[38;5;241m.\u001b[39mscan(\u001b[38;5;124m'\u001b[39m\u001b[38;5;124mk1\u001b[39m\u001b[38;5;124m'\u001b[39m, [\u001b[38;5;241m0.05\u001b[39m, \u001b[38;5;241m0.1\u001b[39m, \u001b[38;5;241m0.2\u001b[39m], r\u001b[38;5;241m.\u001b[39msimulate, \u001b[38;5;241m0\u001b[39m, \u001b[38;5;241m100\u001b[39m, \u001b[38;5;241m100\u001b[39m)\n\u001b[0;32m      5\u001b[0m r\u001b[38;5;241m.\u001b[39mplot(scan_results)\n",
      "File \u001b[1;32m~\\anaconda3\\envs\\training\\Lib\\site-packages\\roadrunner\\roadrunner.py:4538\u001b[0m, in \u001b[0;36mRoadRunner._makeProperties.<locals>.makeProperty.<locals>.<lambda>\u001b[1;34m(self, val)\u001b[0m\n\u001b[0;32m   4535\u001b[0m \u001b[38;5;28;01mdef\u001b[39;00m \u001b[38;5;21mmakeProperty\u001b[39m(name, sel):\n\u001b[0;32m   4536\u001b[0m     prop \u001b[38;5;241m=\u001b[39m \u001b[38;5;28mproperty\u001b[39m(\n\u001b[0;32m   4537\u001b[0m             \u001b[38;5;28;01mlambda\u001b[39;00m \u001b[38;5;28mself\u001b[39m: \u001b[38;5;28mself\u001b[39m\u001b[38;5;241m.\u001b[39mgetModel()\u001b[38;5;241m.\u001b[39m\u001b[38;5;21m__getitem__\u001b[39m(sel),\n\u001b[1;32m-> 4538\u001b[0m             \u001b[38;5;28;01mlambda\u001b[39;00m \u001b[38;5;28mself\u001b[39m, val: \u001b[38;5;28;43mself\u001b[39;49m\u001b[38;5;241;43m.\u001b[39;49m\u001b[43mgetModel\u001b[49m\u001b[43m(\u001b[49m\u001b[43m)\u001b[49m\u001b[38;5;241;43m.\u001b[39;49m\u001b[38;5;21;43m__setitem__\u001b[39;49m\u001b[43m(\u001b[49m\u001b[43msel\u001b[49m\u001b[43m,\u001b[49m\u001b[43m \u001b[49m\u001b[43mval\u001b[49m\u001b[43m)\u001b[49m\n\u001b[0;32m   4539\u001b[0m     )\n\u001b[0;32m   4540\u001b[0m     \u001b[38;5;28msetattr\u001b[39m(RoadRunner, name, prop)\n\u001b[0;32m   4541\u001b[0m     RoadRunner\u001b[38;5;241m.\u001b[39m_properties\u001b[38;5;241m.\u001b[39mappend(name)\n",
      "File \u001b[1;32m~\\anaconda3\\envs\\training\\Lib\\site-packages\\roadrunner\\roadrunner.py:1908\u001b[0m, in \u001b[0;36mExecutableModel.__setitem__\u001b[1;34m(self, id, value)\u001b[0m\n\u001b[0;32m   1907\u001b[0m \u001b[38;5;28;01mdef\u001b[39;00m \u001b[38;5;21m__setitem__\u001b[39m(\u001b[38;5;28mself\u001b[39m, \u001b[38;5;28mid\u001b[39m: \u001b[38;5;124m\"\u001b[39m\u001b[38;5;124mstd::string const &\u001b[39m\u001b[38;5;124m\"\u001b[39m, value: \u001b[38;5;124m\"\u001b[39m\u001b[38;5;124mdouble\u001b[39m\u001b[38;5;124m\"\u001b[39m) \u001b[38;5;241m-\u001b[39m\u001b[38;5;241m>\u001b[39m \u001b[38;5;124m\"\u001b[39m\u001b[38;5;124mvoid\u001b[39m\u001b[38;5;124m\"\u001b[39m:\n\u001b[1;32m-> 1908\u001b[0m     \u001b[38;5;28;01mreturn\u001b[39;00m \u001b[43m_roadrunner\u001b[49m\u001b[38;5;241;43m.\u001b[39;49m\u001b[43mExecutableModel___setitem__\u001b[49m\u001b[43m(\u001b[49m\u001b[38;5;28;43mself\u001b[39;49m\u001b[43m,\u001b[49m\u001b[43m \u001b[49m\u001b[38;5;28;43mid\u001b[39;49m\u001b[43m,\u001b[49m\u001b[43m \u001b[49m\u001b[43mvalue\u001b[49m\u001b[43m)\u001b[49m\n",
      "\u001b[1;31mTypeError\u001b[0m: in method 'ExecutableModel___setitem__', argument 3 of type 'double'"
     ]
    }
   ],
   "source": [
    "# Perform a parameter scan for k1\n",
    "r.resetToOrigin()\n",
    "r.k1 = [0.05, 0.1, 0.2]\n",
    "scan_results = r.scan('k1', [0.05, 0.1, 0.2], r.simulate, 0, 100, 100)\n",
    "r.plot(scan_results)"
   ]
  },
  {
   "cell_type": "markdown",
   "metadata": {},
   "source": [
    "\n",
    "## Section 4: Simulating and Analyzing Models with Tellurium\n",
    "\n",
    "### 4.1 Time-Course Simulations\n",
    "Tellurium allows you to perform time-course simulations to see how the system evolves over time.\n"
   ]
  },
  {
   "cell_type": "code",
   "execution_count": 4,
   "metadata": {
    "execution": {
     "iopub.execute_input": "2024-09-14T16:51:25.928861Z",
     "iopub.status.busy": "2024-09-14T16:51:25.928861Z",
     "iopub.status.idle": "2024-09-14T16:51:25.992923Z",
     "shell.execute_reply": "2024-09-14T16:51:25.992923Z"
    }
   },
   "outputs": [
    {
     "data": {
      "image/png": "[encoded data removed]",
      "text/plain": [
       "<Figure size 600x400 with 1 Axes>"
      ]
     },
     "metadata": {},
     "output_type": "display_data"
    }
   ],
   "source": [
    "# Simulate the model\n",
    "result = r.simulate(0, 200, 200)\n",
    "r.plot(result)"
   ]
  },
  {
   "cell_type": "markdown",
   "metadata": {},
   "source": [
    "\n",
    "### 4.2 Steady-State Analysis\n",
    "Steady-state analysis helps you find the equilibrium concentrations of species.\n"
   ]
  },
  {
   "cell_type": "code",
   "execution_count": 5,
   "metadata": {
    "execution": {
     "iopub.execute_input": "2024-09-14T16:51:25.994928Z",
     "iopub.status.busy": "2024-09-14T16:51:25.994928Z",
     "iopub.status.idle": "2024-09-14T16:51:26.047185Z",
     "shell.execute_reply": "2024-09-14T16:51:26.047185Z"
    }
   },
   "outputs": [
    {
     "name": "stdout",
     "output_type": "stream",
     "text": [
      "Steady-state concentrations: 6.617444900424222e-25\n"
     ]
    }
   ],
   "source": [
    "steady_state = r.steadyState()\n",
    "print(\"Steady-state concentrations:\", steady_state)"
   ]
  },
  {
   "cell_type": "markdown",
   "metadata": {},
   "source": [
    "\n",
    "---"
   ]
  },
  {
   "cell_type": "markdown",
   "metadata": {},
   "source": [
    "\n",
    "## Section 5: Case Studies\n",
    "\n",
    "### 5.1 Modeling Gene Regulatory Networks\n",
    "Gene regulatory networks can be modeled to understand how genes interact to control cellular processes.\n",
    "\n",
    "```antimony\n",
    "model gene_regulation\n",
    "  // Example of a simple gene regulatory network\n",
    "  G + R -> GR; k1*G*R\n",
    "  GR -> G + R; k2*GR\n",
    "  GR -> P + G + R; k3*GR\n",
    "  P -> ; k4*P\n",
    "  \n",
    "  G = 1\n",
    "  R = 1\n",
    "  P = 0\n",
    "  GR = 0\n",
    "  k1 = 0.1\n",
    "  k2 = 0.1\n",
    "  k3 = 0.05\n",
    "  k4 = 0.01\n",
    "end\n",
    "```\n",
    "\n",
    "### 5.2 Metabolic Pathway Modeling\n",
    "Metabolic pathways describe the flow of metabolites through enzymatic reactions. You can use Antimony to model complex pathways and study their dynamics.\n",
    "\n",
    "```antimony\n",
    "model metabolic_pathway\n",
    "  A -> B; v1*A\n",
    "  B -> C; v2*B\n",
    "  C -> ; v3*C\n",
    "  \n",
    "  A = 10\n",
    "  B = 0\n",
    "  C = 0\n",
    "  v1 = 0.1\n",
    "  v2 = 0.05\n",
    "  v3 = 0.02\n",
    "end\n",
    "```\n",
    "\n",
    "---"
   ]
  },
  {
   "cell_type": "markdown",
   "metadata": {},
   "source": [
    "\n",
    "## Conclusion\n",
    "By completing this module, you have learned how to build, simulate, and analyze kinetic models using Antimony and Tellurium. These tools are powerful for exploring the dynamic behavior of biochemical systems and can be applied to a wide range of biological modeling problems. Continue experimenting with your own models and explore the rich features offered by Tellurium for deeper analysis.\n",
    "\n",
    "## Further Reading and Resources\n",
    "- **Tellurium Documentation:** [Tellurium Docs](http://tellurium.analogmachine.org/documentation/)\n",
    "- **Antimony Documentation:** [Antimony Docs](https://antimony.readthedocs.io/en/latest/)\n",
    "- **SBML (Systems Biology Markup Language):** Learn about the standard format for exchanging biological models.\n",
    "- **BioModels Database:** Explore a repository of published, peer-reviewed models.\n",
    "\n",
    "---\n",
    "\n",
    "## Acknowledgments\n",
    "This module is inspired by the work of the broader systems biology community and is designed to provide a practical introduction to kinetic modeling using Antimony and Tellurium.\n",
    "```\n",
    "\n",
    "---"
   ]
  },
  {
   "cell_type": "markdown",
   "metadata": {},
   "source": []
  }
 ],
 "metadata": {
  "language_info": {
   "codemirror_mode": {
    "name": "ipython",
    "version": 3
   },
   "file_extension": ".py",
   "mimetype": "text/x-python",
   "name": "python",
   "nbconvert_exporter": "python",
   "pygments_lexer": "ipython3",
   "version": "3.12.5"
  }
 },
 "nbformat": 4,
 "nbformat_minor": 2
}
